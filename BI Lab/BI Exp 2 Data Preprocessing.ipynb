{
 "cells": [
  {
   "cell_type": "code",
   "execution_count": 1,
   "id": "79431898",
   "metadata": {},
   "outputs": [],
   "source": [
    "#Rescale Data"
   ]
  },
  {
   "cell_type": "code",
   "execution_count": 83,
   "id": "033746eb",
   "metadata": {},
   "outputs": [],
   "source": [
    "# importing libraries\n",
    "import pandas as pd\n",
    "import scipy\n",
    "import numpy\n",
    "from sklearn.preprocessing import MinMaxScaler\n",
    "from sklearn.preprocessing import StandardScaler"
   ]
  },
  {
   "cell_type": "code",
   "execution_count": 3,
   "id": "99cf72d4",
   "metadata": {},
   "outputs": [
    {
     "data": {
      "text/html": [
       "<div>\n",
       "<style scoped>\n",
       "    .dataframe tbody tr th:only-of-type {\n",
       "        vertical-align: middle;\n",
       "    }\n",
       "\n",
       "    .dataframe tbody tr th {\n",
       "        vertical-align: top;\n",
       "    }\n",
       "\n",
       "    .dataframe thead th {\n",
       "        text-align: right;\n",
       "    }\n",
       "</style>\n",
       "<table border=\"1\" class=\"dataframe\">\n",
       "  <thead>\n",
       "    <tr style=\"text-align: right;\">\n",
       "      <th></th>\n",
       "      <th>CustomerID</th>\n",
       "      <th>Age</th>\n",
       "      <th>Annual Income ($)</th>\n",
       "      <th>Spending Score (1-100)</th>\n",
       "      <th>Work Experience</th>\n",
       "      <th>Family Size</th>\n",
       "    </tr>\n",
       "  </thead>\n",
       "  <tbody>\n",
       "    <tr>\n",
       "      <th>0</th>\n",
       "      <td>1</td>\n",
       "      <td>19</td>\n",
       "      <td>15000</td>\n",
       "      <td>39</td>\n",
       "      <td>1</td>\n",
       "      <td>4</td>\n",
       "    </tr>\n",
       "    <tr>\n",
       "      <th>1</th>\n",
       "      <td>2</td>\n",
       "      <td>21</td>\n",
       "      <td>35000</td>\n",
       "      <td>81</td>\n",
       "      <td>3</td>\n",
       "      <td>3</td>\n",
       "    </tr>\n",
       "    <tr>\n",
       "      <th>2</th>\n",
       "      <td>3</td>\n",
       "      <td>20</td>\n",
       "      <td>86000</td>\n",
       "      <td>6</td>\n",
       "      <td>1</td>\n",
       "      <td>1</td>\n",
       "    </tr>\n",
       "    <tr>\n",
       "      <th>3</th>\n",
       "      <td>4</td>\n",
       "      <td>23</td>\n",
       "      <td>59000</td>\n",
       "      <td>77</td>\n",
       "      <td>0</td>\n",
       "      <td>2</td>\n",
       "    </tr>\n",
       "    <tr>\n",
       "      <th>4</th>\n",
       "      <td>5</td>\n",
       "      <td>31</td>\n",
       "      <td>38000</td>\n",
       "      <td>40</td>\n",
       "      <td>2</td>\n",
       "      <td>6</td>\n",
       "    </tr>\n",
       "  </tbody>\n",
       "</table>\n",
       "</div>"
      ],
      "text/plain": [
       "   CustomerID  Age  Annual Income ($)  Spending Score (1-100)  \\\n",
       "0           1   19              15000                      39   \n",
       "1           2   21              35000                      81   \n",
       "2           3   20              86000                       6   \n",
       "3           4   23              59000                      77   \n",
       "4           5   31              38000                      40   \n",
       "\n",
       "   Work Experience  Family Size  \n",
       "0                1            4  \n",
       "1                3            3  \n",
       "2                1            1  \n",
       "3                0            2  \n",
       "4                2            6  "
      ]
     },
     "execution_count": 3,
     "metadata": {},
     "output_type": "execute_result"
    }
   ],
   "source": [
    "# data set link\n",
    "dataset = \"customers.csv\"\n",
    "df = pd.read_csv(dataset)\n",
    "df.head()"
   ]
  },
  {
   "cell_type": "code",
   "execution_count": 4,
   "id": "bad626b3",
   "metadata": {},
   "outputs": [],
   "source": [
    "# data parameters\n",
    "names = ['Age', 'Annual Income ($)', 'Spending Score (1-100)' ,'Work Experience', 'Family Size']"
   ]
  },
  {
   "cell_type": "code",
   "execution_count": 5,
   "id": "c39ffab5",
   "metadata": {},
   "outputs": [],
   "source": [
    "# preparating of dataframe using the data and defined columns list\n",
    "dataframe = pd.read_csv(dataset, names=names, header=0) # added header=0 to skip fi\n",
    "array = dataframe.values"
   ]
  },
  {
   "cell_type": "code",
   "execution_count": 10,
   "id": "b964eeea",
   "metadata": {},
   "outputs": [
    {
     "data": {
      "text/plain": [
       "array([[    19,  15000,     39,      1,      4],\n",
       "       [    21,  35000,     81,      3,      3],\n",
       "       [    20,  86000,      6,      1,      1],\n",
       "       ...,\n",
       "       [    87,  90961,     14,      9,      2],\n",
       "       [    77, 182109,      4,      7,      2],\n",
       "       [    90, 110610,     52,      5,      2]], dtype=int64)"
      ]
     },
     "execution_count": 10,
     "metadata": {},
     "output_type": "execute_result"
    }
   ],
   "source": [
    "array"
   ]
  },
  {
   "cell_type": "code",
   "execution_count": 31,
   "id": "cccbcec9",
   "metadata": {},
   "outputs": [],
   "source": [
    "# separate array into input and output components\n",
    "# .iloc[rows, columns]\n",
    "# .iloc[1:4, 0:5]\n",
    "# it means rows 1-3 and columns 0 to 4\n",
    "X = dataframe.iloc[:, 0:5].values\n",
    "Y = dataframe.iloc[:, 4].values"
   ]
  },
  {
   "cell_type": "code",
   "execution_count": 32,
   "id": "a1a7790d",
   "metadata": {},
   "outputs": [
    {
     "data": {
      "text/plain": [
       "array([[    19,  15000,     39,      1,      4],\n",
       "       [    21,  35000,     81,      3,      3],\n",
       "       [    20,  86000,      6,      1,      1],\n",
       "       ...,\n",
       "       [    87,  90961,     14,      9,      2],\n",
       "       [    77, 182109,      4,      7,      2],\n",
       "       [    90, 110610,     52,      5,      2]], dtype=int64)"
      ]
     },
     "execution_count": 32,
     "metadata": {},
     "output_type": "execute_result"
    }
   ],
   "source": [
    "X"
   ]
  },
  {
   "cell_type": "code",
   "execution_count": 14,
   "id": "20b7f7b4",
   "metadata": {},
   "outputs": [
    {
     "data": {
      "text/plain": [
       "array([4, 3, 1, ..., 2, 2, 2], dtype=int64)"
      ]
     },
     "execution_count": 14,
     "metadata": {},
     "output_type": "execute_result"
    }
   ],
   "source": [
    "Y"
   ]
  },
  {
   "cell_type": "code",
   "execution_count": 37,
   "id": "d7015767",
   "metadata": {},
   "outputs": [],
   "source": [
    "# initialising the MinMaxScaler\n",
    "scaler = MinMaxScaler(feature_range=(0, 1))"
   ]
  },
  {
   "cell_type": "code",
   "execution_count": 38,
   "id": "677e9ef5",
   "metadata": {},
   "outputs": [],
   "source": [
    "# learning the statistical parameters for each of the data and transforming\n",
    "rescaledX = scaler.fit_transform(X)"
   ]
  },
  {
   "cell_type": "code",
   "execution_count": 39,
   "id": "364cdf5f",
   "metadata": {},
   "outputs": [
    {
     "name": "stdout",
     "output_type": "stream",
     "text": [
      "[[0.19 0.08 0.39 0.06 0.38]\n",
      " [0.21 0.18 0.81 0.18 0.25]\n",
      " [0.2  0.45 0.06 0.06 0.  ]\n",
      " [0.23 0.31 0.77 0.   0.12]\n",
      " [0.31 0.2  0.4  0.12 0.62]]\n"
     ]
    }
   ],
   "source": [
    "# summarize transformed data\n",
    "numpy.set_printoptions(precision=2) # precision is number of decimals\n",
    "print(rescaledX[0:5,:])          # 5 is the number of rows to be printed"
   ]
  },
  {
   "cell_type": "code",
   "execution_count": 40,
   "id": "eb152ac9",
   "metadata": {},
   "outputs": [
    {
     "name": "stdout",
     "output_type": "stream",
     "text": [
      "[[0.19 0.08 0.39 0.06 0.38]\n",
      " [0.21 0.18 0.81 0.18 0.25]\n",
      " [0.2  0.45 0.06 0.06 0.  ]\n",
      " [0.23 0.31 0.77 0.   0.12]]\n"
     ]
    }
   ],
   "source": [
    "print(rescaledX[0:4,:])"
   ]
  },
  {
   "cell_type": "code",
   "execution_count": 41,
   "id": "4120013a",
   "metadata": {},
   "outputs": [],
   "source": [
    "# Binarize Data"
   ]
  },
  {
   "cell_type": "code",
   "execution_count": 42,
   "id": "437bb4c5",
   "metadata": {},
   "outputs": [],
   "source": [
    "# import libraries\n",
    "from sklearn.preprocessing import Binarizer\n",
    "import pandas\n",
    "import numpy"
   ]
  },
  {
   "cell_type": "code",
   "execution_count": 43,
   "id": "260b8782",
   "metadata": {},
   "outputs": [],
   "source": [
    "# data set link\n",
    "dataset = \"customers.csv\""
   ]
  },
  {
   "cell_type": "code",
   "execution_count": 44,
   "id": "542d5483",
   "metadata": {},
   "outputs": [],
   "source": [
    "# data parameters\n",
    "names = ['Age', 'Annual Income ($)', 'Spending Score (1-100)' ,'Work Experience', 'Family Size']"
   ]
  },
  {
   "cell_type": "code",
   "execution_count": 45,
   "id": "532e25b0",
   "metadata": {},
   "outputs": [],
   "source": [
    "# preparating of dataframe using the data and defined columns list\n",
    "dataframe = pd.read_csv(dataset, names=names, header=0) # added header=0 to skip fi\n",
    "array = dataframe.values"
   ]
  },
  {
   "cell_type": "code",
   "execution_count": 51,
   "id": "bc2691f5",
   "metadata": {},
   "outputs": [],
   "source": [
    "# separate array into input and output components\n",
    "X = array[:, 0:5]\n",
    "Y = array[:, 4]"
   ]
  },
  {
   "cell_type": "code",
   "execution_count": 52,
   "id": "d59e07c2",
   "metadata": {},
   "outputs": [],
   "source": [
    "# threshold - values below or equal to this are replaced by 0, above it by 1.\n",
    "binarizer = Binarizer(threshold = 0.0).fit(X) \n",
    "binaryX = binarizer.transform(X)"
   ]
  },
  {
   "cell_type": "code",
   "execution_count": 79,
   "id": "ef221a0f",
   "metadata": {},
   "outputs": [
    {
     "name": "stdout",
     "output_type": "stream",
     "text": [
      "[[1 1 1 1 1]\n",
      " [1 1 1 1 1]\n",
      " [1 1 1 1 1]\n",
      " [1 1 1 0 1]\n",
      " [1 1 1 1 1]]\n"
     ]
    }
   ],
   "source": [
    "# summarize transformed data\n",
    "print(binaryX[0:5,])"
   ]
  },
  {
   "cell_type": "code",
   "execution_count": 74,
   "id": "92fec313",
   "metadata": {},
   "outputs": [],
   "source": [
    "# Standard Scalar"
   ]
  },
  {
   "cell_type": "code",
   "execution_count": 75,
   "id": "655fef91",
   "metadata": {},
   "outputs": [],
   "source": [
    "# importing libraries\n",
    "from sklearn.preprocessing import StandardScaler\n",
    "import pandas\n",
    "import numpy"
   ]
  },
  {
   "cell_type": "code",
   "execution_count": 59,
   "id": "8078ae69",
   "metadata": {},
   "outputs": [],
   "source": [
    "# data set link\n",
    "dataset = \"customers.csv\""
   ]
  },
  {
   "cell_type": "code",
   "execution_count": 60,
   "id": "1ec325e9",
   "metadata": {},
   "outputs": [],
   "source": [
    "# data parameters\n",
    "names = ['Age', 'Annual Income ($)', 'Spending Score (1-100)' ,'Work Experience', 'Family Size']"
   ]
  },
  {
   "cell_type": "code",
   "execution_count": 61,
   "id": "d50c6a8b",
   "metadata": {},
   "outputs": [],
   "source": [
    "# preparating of dataframe using the data and defined columns list\n",
    "dataframe = pd.read_csv(dataset, names=names, header=0) # added header=0 to skip fi\n",
    "array = dataframe.values"
   ]
  },
  {
   "cell_type": "code",
   "execution_count": 80,
   "id": "fc67ea44",
   "metadata": {},
   "outputs": [],
   "source": [
    "# separate array into input and output components\n",
    "X = array[:, 0:5]\n",
    "Y = array[:, 4]"
   ]
  },
  {
   "cell_type": "code",
   "execution_count": 84,
   "id": "5f48b784",
   "metadata": {},
   "outputs": [],
   "source": [
    "# initialising the StandardScaler\n",
    "scaler = StandardScaler().fit(X)"
   ]
  },
  {
   "cell_type": "code",
   "execution_count": 85,
   "id": "d285bfb9",
   "metadata": {},
   "outputs": [],
   "source": [
    "rescaledX = scaler.transform(X)"
   ]
  },
  {
   "cell_type": "code",
   "execution_count": 86,
   "id": "2f29d47c",
   "metadata": {},
   "outputs": [
    {
     "name": "stdout",
     "output_type": "stream",
     "text": [
      "[[-1.054 -2.094 -0.428 -0.791  0.117]\n",
      " [-0.984 -1.656  1.076 -0.281 -0.39 ]\n",
      " [-1.019 -0.541 -1.61  -0.791 -1.405]\n",
      " [-0.913 -1.131  0.932 -1.046 -0.898]\n",
      " [-0.632 -1.591 -0.393 -0.536  1.133]]\n"
     ]
    }
   ],
   "source": [
    "# summarize transformed data\n",
    "numpy.set_printoptions(precision = 3)\n",
    "print(rescaledX[0:5,:])"
   ]
  },
  {
   "cell_type": "code",
   "execution_count": null,
   "id": "26d693e9",
   "metadata": {},
   "outputs": [],
   "source": []
  }
 ],
 "metadata": {
  "kernelspec": {
   "display_name": "Python 3 (ipykernel)",
   "language": "python",
   "name": "python3"
  },
  "language_info": {
   "codemirror_mode": {
    "name": "ipython",
    "version": 3
   },
   "file_extension": ".py",
   "mimetype": "text/x-python",
   "name": "python",
   "nbconvert_exporter": "python",
   "pygments_lexer": "ipython3",
   "version": "3.9.7"
  }
 },
 "nbformat": 4,
 "nbformat_minor": 5
}
