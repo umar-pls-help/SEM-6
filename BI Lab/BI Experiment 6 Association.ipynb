{
 "cells": [
  {
   "cell_type": "code",
   "execution_count": 1,
   "id": "8a4f5e29",
   "metadata": {},
   "outputs": [],
   "source": [
    "import pandas as pd\n",
    "import numpy as np\n",
    "from apyori import apriori"
   ]
  },
  {
   "cell_type": "code",
   "execution_count": 2,
   "id": "d408be75",
   "metadata": {},
   "outputs": [],
   "source": [
    "df = pd.read_csv('customer.csv')"
   ]
  },
  {
   "cell_type": "code",
   "execution_count": 3,
   "id": "6a239550",
   "metadata": {},
   "outputs": [],
   "source": [
    "backup_df = df"
   ]
  },
  {
   "cell_type": "code",
   "execution_count": 4,
   "id": "5745e077",
   "metadata": {},
   "outputs": [
    {
     "data": {
      "text/html": [
       "<div>\n",
       "<style scoped>\n",
       "    .dataframe tbody tr th:only-of-type {\n",
       "        vertical-align: middle;\n",
       "    }\n",
       "\n",
       "    .dataframe tbody tr th {\n",
       "        vertical-align: top;\n",
       "    }\n",
       "\n",
       "    .dataframe thead th {\n",
       "        text-align: right;\n",
       "    }\n",
       "</style>\n",
       "<table border=\"1\" class=\"dataframe\">\n",
       "  <thead>\n",
       "    <tr style=\"text-align: right;\">\n",
       "      <th></th>\n",
       "      <th>CustomerID</th>\n",
       "      <th>Gender</th>\n",
       "      <th>Age</th>\n",
       "      <th>Annual Income ($)</th>\n",
       "      <th>Spending Score (1-100)</th>\n",
       "      <th>Profession</th>\n",
       "      <th>Work Experience</th>\n",
       "      <th>Family Size</th>\n",
       "      <th>Graduated</th>\n",
       "    </tr>\n",
       "  </thead>\n",
       "  <tbody>\n",
       "    <tr>\n",
       "      <th>0</th>\n",
       "      <td>1</td>\n",
       "      <td>Male</td>\n",
       "      <td>19</td>\n",
       "      <td>15000</td>\n",
       "      <td>39</td>\n",
       "      <td>Healthcare</td>\n",
       "      <td>1</td>\n",
       "      <td>4</td>\n",
       "      <td>Yes</td>\n",
       "    </tr>\n",
       "    <tr>\n",
       "      <th>1</th>\n",
       "      <td>2</td>\n",
       "      <td>Male</td>\n",
       "      <td>21</td>\n",
       "      <td>35000</td>\n",
       "      <td>81</td>\n",
       "      <td>Engineer</td>\n",
       "      <td>3</td>\n",
       "      <td>3</td>\n",
       "      <td>Yes</td>\n",
       "    </tr>\n",
       "    <tr>\n",
       "      <th>2</th>\n",
       "      <td>3</td>\n",
       "      <td>Female</td>\n",
       "      <td>20</td>\n",
       "      <td>86000</td>\n",
       "      <td>6</td>\n",
       "      <td>Engineer</td>\n",
       "      <td>1</td>\n",
       "      <td>1</td>\n",
       "      <td>No</td>\n",
       "    </tr>\n",
       "  </tbody>\n",
       "</table>\n",
       "</div>"
      ],
      "text/plain": [
       "   CustomerID  Gender  Age  Annual Income ($)  Spending Score (1-100)  \\\n",
       "0           1    Male   19              15000                      39   \n",
       "1           2    Male   21              35000                      81   \n",
       "2           3  Female   20              86000                       6   \n",
       "\n",
       "   Profession  Work Experience  Family Size Graduated  \n",
       "0  Healthcare                1            4       Yes  \n",
       "1    Engineer                3            3       Yes  \n",
       "2    Engineer                1            1        No  "
      ]
     },
     "execution_count": 4,
     "metadata": {},
     "output_type": "execute_result"
    }
   ],
   "source": [
    "df.head(3)"
   ]
  },
  {
   "cell_type": "code",
   "execution_count": 5,
   "id": "1c98c0e3",
   "metadata": {},
   "outputs": [],
   "source": [
    "# df.drop(['Profession', 'Graduated','Gender'], axis=1, inplace=True)"
   ]
  },
  {
   "cell_type": "code",
   "execution_count": 6,
   "id": "5c7e2bfb",
   "metadata": {},
   "outputs": [
    {
     "data": {
      "text/plain": [
       "(2000, 9)"
      ]
     },
     "execution_count": 6,
     "metadata": {},
     "output_type": "execute_result"
    }
   ],
   "source": [
    "df.shape"
   ]
  },
  {
   "cell_type": "code",
   "execution_count": 7,
   "id": "ea4dd54d",
   "metadata": {},
   "outputs": [
    {
     "data": {
      "text/plain": [
       "21"
      ]
     },
     "execution_count": 7,
     "metadata": {},
     "output_type": "execute_result"
    }
   ],
   "source": [
    "df.values[1,2]"
   ]
  },
  {
   "cell_type": "code",
   "execution_count": 7,
   "id": "159d24d0",
   "metadata": {},
   "outputs": [],
   "source": [
    "records = []\n",
    "for i in range (0,2000):\n",
    "    records.append([str(df.values[i,j]) for j in range(0,9)])"
   ]
  },
  {
   "cell_type": "code",
   "execution_count": 8,
   "id": "0709fa44",
   "metadata": {},
   "outputs": [],
   "source": [
    "# Build Apriori model\n",
    "association_rules = apriori(records, min_support = 0.003, min_confidence = 1)\n",
    "association_results = list(association_rules)"
   ]
  },
  {
   "cell_type": "code",
   "execution_count": 9,
   "id": "0df4325b",
   "metadata": {},
   "outputs": [
    {
     "data": {
      "text/plain": [
       "78"
      ]
     },
     "execution_count": 9,
     "metadata": {},
     "output_type": "execute_result"
    }
   ],
   "source": [
    "len(association_results)"
   ]
  },
  {
   "cell_type": "code",
   "execution_count": 10,
   "id": "a1fd7b91",
   "metadata": {},
   "outputs": [
    {
     "name": "stdout",
     "output_type": "stream",
     "text": [
      "[RelationRecord(items=frozenset({'Male', '89000'}), support=0.003, ordered_statistics=[OrderedStatistic(items_base=frozenset({'89000'}), items_add=frozenset({'Male'}), confidence=1.0, lift=2.4570024570024573)]), RelationRecord(items=frozenset({'21', 'Female', '0'}), support=0.0035, ordered_statistics=[OrderedStatistic(items_base=frozenset({'21', '0'}), items_add=frozenset({'Female'}), confidence=1.0, lift=1.6863406408094437)]), RelationRecord(items=frozenset({'Yes', '73', '0'}), support=0.003, ordered_statistics=[OrderedStatistic(items_base=frozenset({'73', '0'}), items_add=frozenset({'Yes'}), confidence=1.0, lift=1.657000828500414)]), RelationRecord(items=frozenset({'75', 'Male', '0'}), support=0.0035, ordered_statistics=[OrderedStatistic(items_base=frozenset({'75', '0'}), items_add=frozenset({'Male'}), confidence=1.0, lift=2.4570024570024573)]), RelationRecord(items=frozenset({'50', 'Female', '1'}), support=0.0075, ordered_statistics=[OrderedStatistic(items_base=frozenset({'50', '1'}), items_add=frozenset({'Female'}), confidence=1.0, lift=1.6863406408094437)]), RelationRecord(items=frozenset({'72', 'No', '1'}), support=0.005, ordered_statistics=[OrderedStatistic(items_base=frozenset({'72', '1'}), items_add=frozenset({'No'}), confidence=1.0, lift=2.5773195876288657)]), RelationRecord(items=frozenset({'10', 'Engineer', 'Yes'}), support=0.003, ordered_statistics=[OrderedStatistic(items_base=frozenset({'10', 'Engineer'}), items_add=frozenset({'Yes'}), confidence=1.0, lift=1.657000828500414)]), RelationRecord(items=frozenset({'12', 'Female', '4'}), support=0.003, ordered_statistics=[OrderedStatistic(items_base=frozenset({'12', '4'}), items_add=frozenset({'Female'}), confidence=1.0, lift=1.6863406408094437)]), RelationRecord(items=frozenset({'17', '6', 'Female'}), support=0.0035, ordered_statistics=[OrderedStatistic(items_base=frozenset({'17', '6'}), items_add=frozenset({'Female'}), confidence=1.0, lift=1.6863406408094437)]), RelationRecord(items=frozenset({'2', 'Yes', '41'}), support=0.003, ordered_statistics=[OrderedStatistic(items_base=frozenset({'2', '41'}), items_add=frozenset({'Yes'}), confidence=1.0, lift=1.657000828500414)]), RelationRecord(items=frozenset({'2', 'Female', '88'}), support=0.003, ordered_statistics=[OrderedStatistic(items_base=frozenset({'2', '88'}), items_add=frozenset({'Female'}), confidence=1.0, lift=1.6863406408094437)]), RelationRecord(items=frozenset({'58', 'Yes', '3'}), support=0.0035, ordered_statistics=[OrderedStatistic(items_base=frozenset({'58', '3'}), items_add=frozenset({'Yes'}), confidence=1.0, lift=1.657000828500414)]), RelationRecord(items=frozenset({'Female', '3', '79'}), support=0.0035, ordered_statistics=[OrderedStatistic(items_base=frozenset({'3', '79'}), items_add=frozenset({'Female'}), confidence=1.0, lift=1.6863406408094437)]), RelationRecord(items=frozenset({'86', 'Yes', '3'}), support=0.0035, ordered_statistics=[OrderedStatistic(items_base=frozenset({'86', '3'}), items_add=frozenset({'Yes'}), confidence=1.0, lift=1.657000828500414)]), RelationRecord(items=frozenset({'32', '4', 'Yes'}), support=0.005, ordered_statistics=[OrderedStatistic(items_base=frozenset({'32', '4'}), items_add=frozenset({'Yes'}), confidence=1.0, lift=1.657000828500414)]), RelationRecord(items=frozenset({'Yes', '34', '9'}), support=0.004, ordered_statistics=[OrderedStatistic(items_base=frozenset({'34', '9'}), items_add=frozenset({'Yes'}), confidence=1.0, lift=1.657000828500414)]), RelationRecord(items=frozenset({'36', '4', 'Yes'}), support=0.005, ordered_statistics=[OrderedStatistic(items_base=frozenset({'36', '4'}), items_add=frozenset({'Yes'}), confidence=1.0, lift=1.657000828500414)]), RelationRecord(items=frozenset({'Female', '4', '46'}), support=0.003, ordered_statistics=[OrderedStatistic(items_base=frozenset({'4', '46'}), items_add=frozenset({'Female'}), confidence=1.0, lift=1.6863406408094437)]), RelationRecord(items=frozenset({'85', '4', 'Yes'}), support=0.007, ordered_statistics=[OrderedStatistic(items_base=frozenset({'85', '4'}), items_add=frozenset({'Yes'}), confidence=1.0, lift=1.657000828500414)]), RelationRecord(items=frozenset({'40', 'Yes', 'Doctor'}), support=0.0035, ordered_statistics=[OrderedStatistic(items_base=frozenset({'40', 'Doctor'}), items_add=frozenset({'Yes'}), confidence=1.0, lift=1.657000828500414)]), RelationRecord(items=frozenset({'43', 'Yes', 'Entertainment'}), support=0.0035, ordered_statistics=[OrderedStatistic(items_base=frozenset({'43', 'Entertainment'}), items_add=frozenset({'Yes'}), confidence=1.0, lift=1.657000828500414)]), RelationRecord(items=frozenset({'6', '45', 'No'}), support=0.003, ordered_statistics=[OrderedStatistic(items_base=frozenset({'6', '45'}), items_add=frozenset({'No'}), confidence=1.0, lift=2.5773195876288657)]), RelationRecord(items=frozenset({'Yes', '7', '55'}), support=0.0035, ordered_statistics=[OrderedStatistic(items_base=frozenset({'7', '55'}), items_add=frozenset({'Yes'}), confidence=1.0, lift=1.657000828500414)]), RelationRecord(items=frozenset({'58', 'Yes', 'Healthcare'}), support=0.003, ordered_statistics=[OrderedStatistic(items_base=frozenset({'58', 'Healthcare'}), items_add=frozenset({'Yes'}), confidence=1.0, lift=1.657000828500414)]), RelationRecord(items=frozenset({'86', '6', 'Female'}), support=0.0035, ordered_statistics=[OrderedStatistic(items_base=frozenset({'86', '6'}), items_add=frozenset({'Female'}), confidence=1.0, lift=1.6863406408094437)]), RelationRecord(items=frozenset({'Female', '60', 'Healthcare'}), support=0.003, ordered_statistics=[OrderedStatistic(items_base=frozenset({'60', 'Healthcare'}), items_add=frozenset({'Female'}), confidence=1.0, lift=1.6863406408094437)]), RelationRecord(items=frozenset({'Female', '9', '75'}), support=0.003, ordered_statistics=[OrderedStatistic(items_base=frozenset({'9', '75'}), items_add=frozenset({'Female'}), confidence=1.0, lift=1.6863406408094437)]), RelationRecord(items=frozenset({'Female', '9', 'nan'}), support=0.0035, ordered_statistics=[OrderedStatistic(items_base=frozenset({'9', 'nan'}), items_add=frozenset({'Female'}), confidence=1.0, lift=1.6863406408094437)]), RelationRecord(items=frozenset({'2', 'Yes', '0', '59'}), support=0.003, ordered_statistics=[OrderedStatistic(items_base=frozenset({'2', '0', '59'}), items_add=frozenset({'Yes'}), confidence=1.0, lift=1.657000828500414)]), RelationRecord(items=frozenset({'27', 'Female', '0', 'Artist'}), support=0.003, ordered_statistics=[OrderedStatistic(items_base=frozenset({'27', '0', 'Artist'}), items_add=frozenset({'Female'}), confidence=1.0, lift=1.6863406408094437)]), RelationRecord(items=frozenset({'35', 'Female', 'Yes', '0'}), support=0.0035, ordered_statistics=[OrderedStatistic(items_base=frozenset({'35', 'Female', '0'}), items_add=frozenset({'Yes'}), confidence=1.0, lift=1.657000828500414)]), RelationRecord(items=frozenset({'Female', 'Yes', '41', '0'}), support=0.004, ordered_statistics=[OrderedStatistic(items_base=frozenset({'Yes', '41', '0'}), items_add=frozenset({'Female'}), confidence=1.0, lift=1.6863406408094437)]), RelationRecord(items=frozenset({'Female', 'No', '52', '0'}), support=0.0035, ordered_statistics=[OrderedStatistic(items_base=frozenset({'No', '52', '0'}), items_add=frozenset({'Female'}), confidence=1.0, lift=1.6863406408094437)]), RelationRecord(items=frozenset({'Female', 'Yes', '0', '79'}), support=0.004, ordered_statistics=[OrderedStatistic(items_base=frozenset({'Female', '0', '79'}), items_add=frozenset({'Yes'}), confidence=1.0, lift=1.657000828500414)]), RelationRecord(items=frozenset({'Male', 'Yes', '1', '24'}), support=0.003, ordered_statistics=[OrderedStatistic(items_base=frozenset({'Male', '1', '24'}), items_add=frozenset({'Yes'}), confidence=1.0, lift=1.657000828500414)]), RelationRecord(items=frozenset({'Female', 'Artist', '1', '30'}), support=0.0035, ordered_statistics=[OrderedStatistic(items_base=frozenset({'Artist', '1', '30'}), items_add=frozenset({'Female'}), confidence=1.0, lift=1.6863406408094437)]), RelationRecord(items=frozenset({'31', 'Female', '1', 'Artist'}), support=0.005, ordered_statistics=[OrderedStatistic(items_base=frozenset({'31', '1', 'Artist'}), items_add=frozenset({'Female'}), confidence=1.0, lift=1.6863406408094437)]), RelationRecord(items=frozenset({'50', 'Female', 'No', '1'}), support=0.004, ordered_statistics=[OrderedStatistic(items_base=frozenset({'50', 'No', '1'}), items_add=frozenset({'Female'}), confidence=1.0, lift=1.6863406408094437)]), RelationRecord(items=frozenset({'50', 'Female', 'Yes', '1'}), support=0.0035, ordered_statistics=[OrderedStatistic(items_base=frozenset({'50', 'Yes', '1'}), items_add=frozenset({'Female'}), confidence=1.0, lift=1.6863406408094437)]), RelationRecord(items=frozenset({'58', 'Female', 'Yes', '1'}), support=0.004, ordered_statistics=[OrderedStatistic(items_base=frozenset({'58', 'Female', '1'}), items_add=frozenset({'Yes'}), confidence=1.0, lift=1.657000828500414)]), RelationRecord(items=frozenset({'Yes', '1', '71', 'Artist'}), support=0.0035, ordered_statistics=[OrderedStatistic(items_base=frozenset({'1', '71', 'Artist'}), items_add=frozenset({'Yes'}), confidence=1.0, lift=1.657000828500414)]), RelationRecord(items=frozenset({'72', 'No', 'Female', '1'}), support=0.003, ordered_statistics=[OrderedStatistic(items_base=frozenset({'72', 'Female', '1'}), items_add=frozenset({'No'}), confidence=1.0, lift=2.5773195876288657)]), RelationRecord(items=frozenset({'86', 'Yes', '1', 'Male'}), support=0.0035, ordered_statistics=[OrderedStatistic(items_base=frozenset({'86', '1', 'Male'}), items_add=frozenset({'Yes'}), confidence=1.0, lift=1.657000828500414)]), RelationRecord(items=frozenset({'10', 'Female', '4', 'Artist'}), support=0.003, ordered_statistics=[OrderedStatistic(items_base=frozenset({'10', '4', 'Artist'}), items_add=frozenset({'Female'}), confidence=1.0, lift=1.6863406408094437)]), RelationRecord(items=frozenset({'No', '10', '4', 'Artist'}), support=0.003, ordered_statistics=[OrderedStatistic(items_base=frozenset({'10', '4', 'Artist'}), items_add=frozenset({'No'}), confidence=1.0, lift=2.5773195876288657)]), RelationRecord(items=frozenset({'12', 'Female', '7', 'Yes'}), support=0.003, ordered_statistics=[OrderedStatistic(items_base=frozenset({'12', 'Female', '7'}), items_add=frozenset({'Yes'}), confidence=1.0, lift=1.657000828500414)]), RelationRecord(items=frozenset({'Yes', '13', '3', 'Artist'}), support=0.003, ordered_statistics=[OrderedStatistic(items_base=frozenset({'13', '3', 'Artist'}), items_add=frozenset({'Yes'}), confidence=1.0, lift=1.657000828500414)]), RelationRecord(items=frozenset({'17', '6', 'No', 'Female'}), support=0.003, ordered_statistics=[OrderedStatistic(items_base=frozenset({'17', '6', 'No'}), items_add=frozenset({'Female'}), confidence=1.0, lift=1.6863406408094437)]), RelationRecord(items=frozenset({'17', 'Female', 'No', 'Artist'}), support=0.003, ordered_statistics=[OrderedStatistic(items_base=frozenset({'17', 'No', 'Artist'}), items_add=frozenset({'Female'}), confidence=1.0, lift=1.6863406408094437)]), RelationRecord(items=frozenset({'17', 'Yes', 'Male', 'Artist'}), support=0.004, ordered_statistics=[OrderedStatistic(items_base=frozenset({'17', 'Male', 'Artist'}), items_add=frozenset({'Yes'}), confidence=1.0, lift=1.657000828500414)]), RelationRecord(items=frozenset({'17', 'Female', 'Yes', 'Healthcare'}), support=0.003, ordered_statistics=[OrderedStatistic(items_base=frozenset({'17', 'Yes', 'Healthcare'}), items_add=frozenset({'Female'}), confidence=1.0, lift=1.6863406408094437)]), RelationRecord(items=frozenset({'2', 'Female', '4', 'Healthcare'}), support=0.003, ordered_statistics=[OrderedStatistic(items_base=frozenset({'2', '4', 'Healthcare'}), items_add=frozenset({'Female'}), confidence=1.0, lift=1.6863406408094437)]), RelationRecord(items=frozenset({'2', 'Male', 'Yes', 'Homemaker'}), support=0.003, ordered_statistics=[OrderedStatistic(items_base=frozenset({'2', 'Male', 'Homemaker'}), items_add=frozenset({'Yes'}), confidence=1.0, lift=1.657000828500414)]), RelationRecord(items=frozenset({'21', 'Female', '7', 'Yes'}), support=0.003, ordered_statistics=[OrderedStatistic(items_base=frozenset({'21', '7', 'Yes'}), items_add=frozenset({'Female'}), confidence=1.0, lift=1.6863406408094437)]), RelationRecord(items=frozenset({'Executive', 'Yes', '3', '5'}), support=0.0035, ordered_statistics=[OrderedStatistic(items_base=frozenset({'Executive', '3', '5'}), items_add=frozenset({'Yes'}), confidence=1.0, lift=1.657000828500414)]), RelationRecord(items=frozenset({'Female', 'Yes', '3', '79'}), support=0.003, ordered_statistics=[OrderedStatistic(items_base=frozenset({'Yes', '3', '79'}), items_add=frozenset({'Female'}), confidence=1.0, lift=1.6863406408094437)]), RelationRecord(items=frozenset({'31', 'Yes', 'Female', 'Artist'}), support=0.0035, ordered_statistics=[OrderedStatistic(items_base=frozenset({'31', 'Yes', 'Artist'}), items_add=frozenset({'Female'}), confidence=1.0, lift=1.6863406408094437)]), RelationRecord(items=frozenset({'32', 'Female', '4', 'Yes'}), support=0.003, ordered_statistics=[OrderedStatistic(items_base=frozenset({'32', 'Female', '4'}), items_add=frozenset({'Yes'}), confidence=1.0, lift=1.657000828500414)]), RelationRecord(items=frozenset({'6', 'Female', 'No', '34'}), support=0.003, ordered_statistics=[OrderedStatistic(items_base=frozenset({'6', 'No', '34'}), items_add=frozenset({'Female'}), confidence=1.0, lift=1.6863406408094437)]), RelationRecord(items=frozenset({'Female', 'Yes', '34', '9'}), support=0.003, ordered_statistics=[OrderedStatistic(items_base=frozenset({'Female', '34', '9'}), items_add=frozenset({'Yes'}), confidence=1.0, lift=1.657000828500414)]), RelationRecord(items=frozenset({'Yes', '36', '4', 'Female'}), support=0.003, ordered_statistics=[OrderedStatistic(items_base=frozenset({'36', '4', 'Female'}), items_add=frozenset({'Yes'}), confidence=1.0, lift=1.657000828500414)]), RelationRecord(items=frozenset({'Female', 'Yes', '39', '5'}), support=0.0035, ordered_statistics=[OrderedStatistic(items_base=frozenset({'Female', '39', '5'}), items_add=frozenset({'Yes'}), confidence=1.0, lift=1.657000828500414)]), RelationRecord(items=frozenset({'85', 'Female', '4', 'Yes'}), support=0.0045, ordered_statistics=[OrderedStatistic(items_base=frozenset({'85', 'Female', '4'}), items_add=frozenset({'Yes'}), confidence=1.0, lift=1.657000828500414)]), RelationRecord(items=frozenset({'Male', 'Yes', '49', 'Artist'}), support=0.003, ordered_statistics=[OrderedStatistic(items_base=frozenset({'Male', '49', 'Artist'}), items_add=frozenset({'Yes'}), confidence=1.0, lift=1.657000828500414)]), RelationRecord(items=frozenset({'Male', 'Yes', '74', '5'}), support=0.0035, ordered_statistics=[OrderedStatistic(items_base=frozenset({'Male', '74', '5'}), items_add=frozenset({'Yes'}), confidence=1.0, lift=1.657000828500414)]), RelationRecord(items=frozenset({'Healthcare', 'Female', 'Yes', '51'}), support=0.003, ordered_statistics=[OrderedStatistic(items_base=frozenset({'Healthcare', 'Yes', '51'}), items_add=frozenset({'Female'}), confidence=1.0, lift=1.6863406408094437)]), RelationRecord(items=frozenset({'Female', 'No', '55', 'Artist'}), support=0.003, ordered_statistics=[OrderedStatistic(items_base=frozenset({'No', '55', 'Artist'}), items_add=frozenset({'Female'}), confidence=1.0, lift=1.6863406408094437)]), RelationRecord(items=frozenset({'63', 'Yes', 'Male', 'Artist'}), support=0.0035, ordered_statistics=[OrderedStatistic(items_base=frozenset({'63', 'Male', 'Artist'}), items_add=frozenset({'Yes'}), confidence=1.0, lift=1.657000828500414)]), RelationRecord(items=frozenset({'No', 'Female', '7', '76'}), support=0.003, ordered_statistics=[OrderedStatistic(items_base=frozenset({'No', '7', '76'}), items_add=frozenset({'Female'}), confidence=1.0, lift=1.6863406408094437)]), RelationRecord(items=frozenset({'Female', '76', 'Yes', 'Artist'}), support=0.003, ordered_statistics=[OrderedStatistic(items_base=frozenset({'Female', '76', 'Yes'}), items_add=frozenset({'Artist'}), confidence=1.0, lift=3.2679738562091503)]), RelationRecord(items=frozenset({'Female', 'No', 'Homemaker', '8'}), support=0.003, ordered_statistics=[OrderedStatistic(items_base=frozenset({'No', 'Homemaker', '8'}), items_add=frozenset({'Female'}), confidence=1.0, lift=1.6863406408094437)]), RelationRecord(items=frozenset({'Female', 'Yes', 'Artist', '87'}), support=0.003, ordered_statistics=[OrderedStatistic(items_base=frozenset({'Female', 'Artist', '87'}), items_add=frozenset({'Yes'}), confidence=1.0, lift=1.657000828500414)]), RelationRecord(items=frozenset({'Entertainment', 'Female', 'No', '9'}), support=0.003, ordered_statistics=[OrderedStatistic(items_base=frozenset({'Entertainment', 'No', '9'}), items_add=frozenset({'Female'}), confidence=1.0, lift=1.6863406408094437)]), RelationRecord(items=frozenset({'Entertainment', 'Yes', '9', 'Male'}), support=0.003, ordered_statistics=[OrderedStatistic(items_base=frozenset({'Entertainment', '9', 'Male'}), items_add=frozenset({'Yes'}), confidence=1.0, lift=1.657000828500414)]), RelationRecord(items=frozenset({'Yes', '4', 'Healthcare', 'Female', '0'}), support=0.004, ordered_statistics=[OrderedStatistic(items_base=frozenset({'4', 'Yes', 'Healthcare', '0'}), items_add=frozenset({'Female'}), confidence=1.0, lift=1.6863406408094437)]), RelationRecord(items=frozenset({'Yes', 'Healthcare', 'Female', '1', '5'}), support=0.0035, ordered_statistics=[OrderedStatistic(items_base=frozenset({'Healthcare', 'Female', '1', '5'}), items_add=frozenset({'Yes'}), confidence=1.0, lift=1.657000828500414)]), RelationRecord(items=frozenset({'Yes', 'Entertainment', '7', '1', 'Male'}), support=0.0045, ordered_statistics=[OrderedStatistic(items_base=frozenset({'7', 'Entertainment', '1', 'Male'}), items_add=frozenset({'Yes'}), confidence=1.0, lift=1.657000828500414)]), RelationRecord(items=frozenset({'10', 'No', '4', 'Female', 'Artist'}), support=0.003, ordered_statistics=[OrderedStatistic(items_base=frozenset({'10', '4', 'Artist'}), items_add=frozenset({'Female', 'No'}), confidence=1.0, lift=4.3763676148796495), OrderedStatistic(items_base=frozenset({'10', 'Female', '4', 'Artist'}), items_add=frozenset({'No'}), confidence=1.0, lift=2.5773195876288657), OrderedStatistic(items_base=frozenset({'No', '10', '4', 'Artist'}), items_add=frozenset({'Female'}), confidence=1.0, lift=1.6863406408094437)])]\n"
     ]
    }
   ],
   "source": [
    "print(association_results)"
   ]
  },
  {
   "cell_type": "code",
   "execution_count": null,
   "id": "46d86f89",
   "metadata": {},
   "outputs": [],
   "source": []
  }
 ],
 "metadata": {
  "kernelspec": {
   "display_name": "Python 3 (ipykernel)",
   "language": "python",
   "name": "python3"
  },
  "language_info": {
   "codemirror_mode": {
    "name": "ipython",
    "version": 3
   },
   "file_extension": ".py",
   "mimetype": "text/x-python",
   "name": "python",
   "nbconvert_exporter": "python",
   "pygments_lexer": "ipython3",
   "version": "3.9.7"
  }
 },
 "nbformat": 4,
 "nbformat_minor": 5
}
